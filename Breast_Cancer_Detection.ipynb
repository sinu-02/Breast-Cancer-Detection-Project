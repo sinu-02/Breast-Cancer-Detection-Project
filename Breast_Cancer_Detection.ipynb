{
  "nbformat": 4,
  "nbformat_minor": 0,
  "metadata": {
    "colab": {
      "name": "Breast Cancer Detection.ipynb",
      "provenance": []
    },
    "kernelspec": {
      "name": "python3",
      "display_name": "Python 3"
    },
    "language_info": {
      "name": "python"
    }
  },
  "cells": [
    {
      "cell_type": "code",
      "metadata": {
        "id": "skLgPcfR4wYK"
      },
      "source": [
        "import pandas as pd\n",
        "import numpy as np\n",
        "\n",
        "from sklearn.datasets import load_breast_cancer\n",
        "from sklearn.preprocessing import StandardScaler\n",
        "\n",
        "from keras.models import Sequential\n",
        "from keras.layers import Dense"
      ],
      "execution_count": 1,
      "outputs": []
    },
    {
      "cell_type": "code",
      "metadata": {
        "id": "aPpbrmeuOfVB"
      },
      "source": [
        "data = load_breast_cancer()"
      ],
      "execution_count": 2,
      "outputs": []
    },
    {
      "cell_type": "code",
      "metadata": {
        "colab": {
          "base_uri": "https://localhost:8080/"
        },
        "id": "UYIK8CjLOsaF",
        "outputId": "f52d1f2c-f15a-471c-fc22-e0ece699ac30"
      },
      "source": [
        "data.keys()"
      ],
      "execution_count": 3,
      "outputs": [
        {
          "output_type": "execute_result",
          "data": {
            "text/plain": [
              "dict_keys(['data', 'target', 'target_names', 'DESCR', 'feature_names', 'filename'])"
            ]
          },
          "metadata": {},
          "execution_count": 3
        }
      ]
    },
    {
      "cell_type": "code",
      "metadata": {
        "colab": {
          "base_uri": "https://localhost:8080/"
        },
        "id": "Q7iWtR_aOwuE",
        "outputId": "508f3329-295b-4fdb-83fa-f6141a11eab7"
      },
      "source": [
        "print(data['DESCR'])"
      ],
      "execution_count": 4,
      "outputs": [
        {
          "output_type": "stream",
          "name": "stdout",
          "text": [
            ".. _breast_cancer_dataset:\n",
            "\n",
            "Breast cancer wisconsin (diagnostic) dataset\n",
            "--------------------------------------------\n",
            "\n",
            "**Data Set Characteristics:**\n",
            "\n",
            "    :Number of Instances: 569\n",
            "\n",
            "    :Number of Attributes: 30 numeric, predictive attributes and the class\n",
            "\n",
            "    :Attribute Information:\n",
            "        - radius (mean of distances from center to points on the perimeter)\n",
            "        - texture (standard deviation of gray-scale values)\n",
            "        - perimeter\n",
            "        - area\n",
            "        - smoothness (local variation in radius lengths)\n",
            "        - compactness (perimeter^2 / area - 1.0)\n",
            "        - concavity (severity of concave portions of the contour)\n",
            "        - concave points (number of concave portions of the contour)\n",
            "        - symmetry \n",
            "        - fractal dimension (\"coastline approximation\" - 1)\n",
            "\n",
            "        The mean, standard error, and \"worst\" or largest (mean of the three\n",
            "        largest values) of these features were computed for each image,\n",
            "        resulting in 30 features.  For instance, field 3 is Mean Radius, field\n",
            "        13 is Radius SE, field 23 is Worst Radius.\n",
            "\n",
            "        - class:\n",
            "                - WDBC-Malignant\n",
            "                - WDBC-Benign\n",
            "\n",
            "    :Summary Statistics:\n",
            "\n",
            "    ===================================== ====== ======\n",
            "                                           Min    Max\n",
            "    ===================================== ====== ======\n",
            "    radius (mean):                        6.981  28.11\n",
            "    texture (mean):                       9.71   39.28\n",
            "    perimeter (mean):                     43.79  188.5\n",
            "    area (mean):                          143.5  2501.0\n",
            "    smoothness (mean):                    0.053  0.163\n",
            "    compactness (mean):                   0.019  0.345\n",
            "    concavity (mean):                     0.0    0.427\n",
            "    concave points (mean):                0.0    0.201\n",
            "    symmetry (mean):                      0.106  0.304\n",
            "    fractal dimension (mean):             0.05   0.097\n",
            "    radius (standard error):              0.112  2.873\n",
            "    texture (standard error):             0.36   4.885\n",
            "    perimeter (standard error):           0.757  21.98\n",
            "    area (standard error):                6.802  542.2\n",
            "    smoothness (standard error):          0.002  0.031\n",
            "    compactness (standard error):         0.002  0.135\n",
            "    concavity (standard error):           0.0    0.396\n",
            "    concave points (standard error):      0.0    0.053\n",
            "    symmetry (standard error):            0.008  0.079\n",
            "    fractal dimension (standard error):   0.001  0.03\n",
            "    radius (worst):                       7.93   36.04\n",
            "    texture (worst):                      12.02  49.54\n",
            "    perimeter (worst):                    50.41  251.2\n",
            "    area (worst):                         185.2  4254.0\n",
            "    smoothness (worst):                   0.071  0.223\n",
            "    compactness (worst):                  0.027  1.058\n",
            "    concavity (worst):                    0.0    1.252\n",
            "    concave points (worst):               0.0    0.291\n",
            "    symmetry (worst):                     0.156  0.664\n",
            "    fractal dimension (worst):            0.055  0.208\n",
            "    ===================================== ====== ======\n",
            "\n",
            "    :Missing Attribute Values: None\n",
            "\n",
            "    :Class Distribution: 212 - Malignant, 357 - Benign\n",
            "\n",
            "    :Creator:  Dr. William H. Wolberg, W. Nick Street, Olvi L. Mangasarian\n",
            "\n",
            "    :Donor: Nick Street\n",
            "\n",
            "    :Date: November, 1995\n",
            "\n",
            "This is a copy of UCI ML Breast Cancer Wisconsin (Diagnostic) datasets.\n",
            "https://goo.gl/U2Uwz2\n",
            "\n",
            "Features are computed from a digitized image of a fine needle\n",
            "aspirate (FNA) of a breast mass.  They describe\n",
            "characteristics of the cell nuclei present in the image.\n",
            "\n",
            "Separating plane described above was obtained using\n",
            "Multisurface Method-Tree (MSM-T) [K. P. Bennett, \"Decision Tree\n",
            "Construction Via Linear Programming.\" Proceedings of the 4th\n",
            "Midwest Artificial Intelligence and Cognitive Science Society,\n",
            "pp. 97-101, 1992], a classification method which uses linear\n",
            "programming to construct a decision tree.  Relevant features\n",
            "were selected using an exhaustive search in the space of 1-4\n",
            "features and 1-3 separating planes.\n",
            "\n",
            "The actual linear program used to obtain the separating plane\n",
            "in the 3-dimensional space is that described in:\n",
            "[K. P. Bennett and O. L. Mangasarian: \"Robust Linear\n",
            "Programming Discrimination of Two Linearly Inseparable Sets\",\n",
            "Optimization Methods and Software 1, 1992, 23-34].\n",
            "\n",
            "This database is also available through the UW CS ftp server:\n",
            "\n",
            "ftp ftp.cs.wisc.edu\n",
            "cd math-prog/cpo-dataset/machine-learn/WDBC/\n",
            "\n",
            ".. topic:: References\n",
            "\n",
            "   - W.N. Street, W.H. Wolberg and O.L. Mangasarian. Nuclear feature extraction \n",
            "     for breast tumor diagnosis. IS&T/SPIE 1993 International Symposium on \n",
            "     Electronic Imaging: Science and Technology, volume 1905, pages 861-870,\n",
            "     San Jose, CA, 1993.\n",
            "   - O.L. Mangasarian, W.N. Street and W.H. Wolberg. Breast cancer diagnosis and \n",
            "     prognosis via linear programming. Operations Research, 43(4), pages 570-577, \n",
            "     July-August 1995.\n",
            "   - W.H. Wolberg, W.N. Street, and O.L. Mangasarian. Machine learning techniques\n",
            "     to diagnose breast cancer from fine-needle aspirates. Cancer Letters 77 (1994) \n",
            "     163-171.\n"
          ]
        }
      ]
    },
    {
      "cell_type": "code",
      "metadata": {
        "colab": {
          "base_uri": "https://localhost:8080/"
        },
        "id": "1sIRU9gSO0k1",
        "outputId": "8a3ec4e1-e96f-457b-f0ec-f4a86271189b"
      },
      "source": [
        "data['data'].shape"
      ],
      "execution_count": 5,
      "outputs": [
        {
          "output_type": "execute_result",
          "data": {
            "text/plain": [
              "(569, 30)"
            ]
          },
          "metadata": {},
          "execution_count": 5
        }
      ]
    },
    {
      "cell_type": "code",
      "metadata": {
        "colab": {
          "base_uri": "https://localhost:8080/"
        },
        "id": "hQDPBwU5O8-O",
        "outputId": "5e4fa87b-f88b-40ae-f38a-c308be4bbd50"
      },
      "source": [
        "data['feature_names']"
      ],
      "execution_count": 6,
      "outputs": [
        {
          "output_type": "execute_result",
          "data": {
            "text/plain": [
              "array(['mean radius', 'mean texture', 'mean perimeter', 'mean area',\n",
              "       'mean smoothness', 'mean compactness', 'mean concavity',\n",
              "       'mean concave points', 'mean symmetry', 'mean fractal dimension',\n",
              "       'radius error', 'texture error', 'perimeter error', 'area error',\n",
              "       'smoothness error', 'compactness error', 'concavity error',\n",
              "       'concave points error', 'symmetry error',\n",
              "       'fractal dimension error', 'worst radius', 'worst texture',\n",
              "       'worst perimeter', 'worst area', 'worst smoothness',\n",
              "       'worst compactness', 'worst concavity', 'worst concave points',\n",
              "       'worst symmetry', 'worst fractal dimension'], dtype='<U23')"
            ]
          },
          "metadata": {},
          "execution_count": 6
        }
      ]
    },
    {
      "cell_type": "code",
      "metadata": {
        "colab": {
          "base_uri": "https://localhost:8080/"
        },
        "id": "E9V7oh-2Plyq",
        "outputId": "9d898338-af05-47de-ea9c-00edaaac6697"
      },
      "source": [
        "data['data'][0]"
      ],
      "execution_count": 7,
      "outputs": [
        {
          "output_type": "execute_result",
          "data": {
            "text/plain": [
              "array([1.799e+01, 1.038e+01, 1.228e+02, 1.001e+03, 1.184e-01, 2.776e-01,\n",
              "       3.001e-01, 1.471e-01, 2.419e-01, 7.871e-02, 1.095e+00, 9.053e-01,\n",
              "       8.589e+00, 1.534e+02, 6.399e-03, 4.904e-02, 5.373e-02, 1.587e-02,\n",
              "       3.003e-02, 6.193e-03, 2.538e+01, 1.733e+01, 1.846e+02, 2.019e+03,\n",
              "       1.622e-01, 6.656e-01, 7.119e-01, 2.654e-01, 4.601e-01, 1.189e-01])"
            ]
          },
          "metadata": {},
          "execution_count": 7
        }
      ]
    },
    {
      "cell_type": "code",
      "metadata": {
        "colab": {
          "base_uri": "https://localhost:8080/"
        },
        "id": "dVSDDIv1PsfK",
        "outputId": "eab75aeb-0223-4bd8-9b32-712d448da7df"
      },
      "source": [
        "j = 0\n",
        "for i in data['feature_names']:\n",
        "  print(i,\":\",data['data'][0][j])\n",
        "  j+=1"
      ],
      "execution_count": 8,
      "outputs": [
        {
          "output_type": "stream",
          "name": "stdout",
          "text": [
            "mean radius : 17.99\n",
            "mean texture : 10.38\n",
            "mean perimeter : 122.8\n",
            "mean area : 1001.0\n",
            "mean smoothness : 0.1184\n",
            "mean compactness : 0.2776\n",
            "mean concavity : 0.3001\n",
            "mean concave points : 0.1471\n",
            "mean symmetry : 0.2419\n",
            "mean fractal dimension : 0.07871\n",
            "radius error : 1.095\n",
            "texture error : 0.9053\n",
            "perimeter error : 8.589\n",
            "area error : 153.4\n",
            "smoothness error : 0.006399\n",
            "compactness error : 0.04904\n",
            "concavity error : 0.05373\n",
            "concave points error : 0.01587\n",
            "symmetry error : 0.03003\n",
            "fractal dimension error : 0.006193\n",
            "worst radius : 25.38\n",
            "worst texture : 17.33\n",
            "worst perimeter : 184.6\n",
            "worst area : 2019.0\n",
            "worst smoothness : 0.1622\n",
            "worst compactness : 0.6656\n",
            "worst concavity : 0.7119\n",
            "worst concave points : 0.2654\n",
            "worst symmetry : 0.4601\n",
            "worst fractal dimension : 0.1189\n"
          ]
        }
      ]
    },
    {
      "cell_type": "code",
      "metadata": {
        "id": "96B2V2ayP9XB"
      },
      "source": [
        "feature = data['data']"
      ],
      "execution_count": 9,
      "outputs": []
    },
    {
      "cell_type": "code",
      "metadata": {
        "id": "jQVx33EeP_se"
      },
      "source": [
        "label = data['target']"
      ],
      "execution_count": 10,
      "outputs": []
    },
    {
      "cell_type": "code",
      "metadata": {
        "colab": {
          "base_uri": "https://localhost:8080/"
        },
        "id": "NfE9qKjSRPsx",
        "outputId": "e9224e8a-ec2f-4779-eeb9-639e130dda5c"
      },
      "source": [
        "data['target_names']"
      ],
      "execution_count": 11,
      "outputs": [
        {
          "output_type": "execute_result",
          "data": {
            "text/plain": [
              "array(['malignant', 'benign'], dtype='<U9')"
            ]
          },
          "metadata": {},
          "execution_count": 11
        }
      ]
    },
    {
      "cell_type": "code",
      "metadata": {
        "colab": {
          "base_uri": "https://localhost:8080/"
        },
        "id": "duQX5MGgRZ2z",
        "outputId": "9596d3ef-2e04-4c3f-c933-828a70199100"
      },
      "source": [
        "feature.shape"
      ],
      "execution_count": 13,
      "outputs": [
        {
          "output_type": "execute_result",
          "data": {
            "text/plain": [
              "(569, 30)"
            ]
          },
          "metadata": {},
          "execution_count": 13
        }
      ]
    },
    {
      "cell_type": "code",
      "metadata": {
        "colab": {
          "base_uri": "https://localhost:8080/"
        },
        "id": "kiChF5HOSHRa",
        "outputId": "24b60ca8-8765-4ea7-c205-cd7a3d64d8a1"
      },
      "source": [
        "label.shape"
      ],
      "execution_count": 14,
      "outputs": [
        {
          "output_type": "execute_result",
          "data": {
            "text/plain": [
              "(569,)"
            ]
          },
          "metadata": {},
          "execution_count": 14
        }
      ]
    },
    {
      "cell_type": "code",
      "metadata": {
        "id": "4gJcOL4tSO94"
      },
      "source": [
        "scale = StandardScaler()\n",
        "\n",
        "feature = scale.fit_transform(feature)"
      ],
      "execution_count": 15,
      "outputs": []
    },
    {
      "cell_type": "code",
      "metadata": {
        "colab": {
          "base_uri": "https://localhost:8080/"
        },
        "id": "fp0EJOY8SUD7",
        "outputId": "5c5f5243-10ad-4416-d021-91ad8e00bd09"
      },
      "source": [
        "j = 0\n",
        "for i in data['feature_names']:\n",
        "  print(i,\":\",feature[0][j])\n",
        "  j+=1"
      ],
      "execution_count": 16,
      "outputs": [
        {
          "output_type": "stream",
          "name": "stdout",
          "text": [
            "mean radius : 1.0970639814699807\n",
            "mean texture : -2.0733350146975935\n",
            "mean perimeter : 1.2699336881399383\n",
            "mean area : 0.9843749048031144\n",
            "mean smoothness : 1.568466329243428\n",
            "mean compactness : 3.2835146709868264\n",
            "mean concavity : 2.652873983743168\n",
            "mean concave points : 2.532475216403245\n",
            "mean symmetry : 2.2175150059646405\n",
            "mean fractal dimension : 2.255746885296269\n",
            "radius error : 2.4897339267376193\n",
            "texture error : -0.5652650590684639\n",
            "perimeter error : 2.833030865855184\n",
            "area error : 2.4875775569611043\n",
            "smoothness error : -0.21400164666895383\n",
            "compactness error : 1.3168615683959484\n",
            "concavity error : 0.72402615808036\n",
            "concave points error : 0.6608199414286064\n",
            "symmetry error : 1.1487566671861758\n",
            "fractal dimension error : 0.9070830809973359\n",
            "worst radius : 1.8866896251792757\n",
            "worst texture : -1.3592934737640827\n",
            "worst perimeter : 2.3036006236225606\n",
            "worst area : 2.0012374893299207\n",
            "worst smoothness : 1.3076862710715387\n",
            "worst compactness : 2.616665023512603\n",
            "worst concavity : 2.1095263465722556\n",
            "worst concave points : 2.296076127561788\n",
            "worst symmetry : 2.750622244124955\n",
            "worst fractal dimension : 1.9370146123781782\n"
          ]
        }
      ]
    },
    {
      "cell_type": "code",
      "metadata": {
        "colab": {
          "base_uri": "https://localhost:8080/"
        },
        "id": "0FLgFWTQSeF5",
        "outputId": "ce71c2a9-fe1b-42ae-ba4b-ccaf08791668"
      },
      "source": [
        "print(feature[568])\n",
        "print(data['target_names'][label[568]],label[568])"
      ],
      "execution_count": 17,
      "outputs": [
        {
          "output_type": "stream",
          "name": "stdout",
          "text": [
            "[-1.80840125  1.22179204 -1.81438851 -1.34778924 -3.11208479 -1.15075248\n",
            " -1.11487284 -1.26181958 -0.8200699  -0.56103238 -0.07027874  0.3830925\n",
            " -0.15744905 -0.46615196  0.04934236 -1.16351619 -1.05750068 -1.91344745\n",
            "  0.75282996 -0.382754   -1.41089258  0.76418957 -1.43273495 -1.07581292\n",
            " -1.85901852 -1.2075525  -1.30583065 -1.74506282 -0.04813821 -0.75120669]\n",
            "benign 1\n"
          ]
        }
      ]
    },
    {
      "cell_type": "code",
      "metadata": {
        "id": "OQiuLltgSnN-"
      },
      "source": [
        "df_frt = pd.DataFrame(feature , columns = data['feature_names'])\n",
        "df_lbl = pd.DataFrame(label , columns = ['label'])\n",
        "df = pd.concat([df_frt, df_lbl], axis=1)\n",
        "df = df.sample(frac = 1)\n",
        "\n",
        "feature = df.values[ : , : 30]\n",
        "label = df.values[ : ,30: ]"
      ],
      "execution_count": 18,
      "outputs": []
    },
    {
      "cell_type": "code",
      "metadata": {
        "colab": {
          "base_uri": "https://localhost:8080/",
          "height": 473
        },
        "id": "Q9ax-C42SuVl",
        "outputId": "f420c144-a997-4f35-8b57-59a5a17f6710"
      },
      "source": [
        "df"
      ],
      "execution_count": 19,
      "outputs": [
        {
          "output_type": "execute_result",
          "data": {
            "text/html": [
              "<div>\n",
              "<style scoped>\n",
              "    .dataframe tbody tr th:only-of-type {\n",
              "        vertical-align: middle;\n",
              "    }\n",
              "\n",
              "    .dataframe tbody tr th {\n",
              "        vertical-align: top;\n",
              "    }\n",
              "\n",
              "    .dataframe thead th {\n",
              "        text-align: right;\n",
              "    }\n",
              "</style>\n",
              "<table border=\"1\" class=\"dataframe\">\n",
              "  <thead>\n",
              "    <tr style=\"text-align: right;\">\n",
              "      <th></th>\n",
              "      <th>mean radius</th>\n",
              "      <th>mean texture</th>\n",
              "      <th>mean perimeter</th>\n",
              "      <th>mean area</th>\n",
              "      <th>mean smoothness</th>\n",
              "      <th>mean compactness</th>\n",
              "      <th>mean concavity</th>\n",
              "      <th>mean concave points</th>\n",
              "      <th>mean symmetry</th>\n",
              "      <th>mean fractal dimension</th>\n",
              "      <th>radius error</th>\n",
              "      <th>texture error</th>\n",
              "      <th>perimeter error</th>\n",
              "      <th>area error</th>\n",
              "      <th>smoothness error</th>\n",
              "      <th>compactness error</th>\n",
              "      <th>concavity error</th>\n",
              "      <th>concave points error</th>\n",
              "      <th>symmetry error</th>\n",
              "      <th>fractal dimension error</th>\n",
              "      <th>worst radius</th>\n",
              "      <th>worst texture</th>\n",
              "      <th>worst perimeter</th>\n",
              "      <th>worst area</th>\n",
              "      <th>worst smoothness</th>\n",
              "      <th>worst compactness</th>\n",
              "      <th>worst concavity</th>\n",
              "      <th>worst concave points</th>\n",
              "      <th>worst symmetry</th>\n",
              "      <th>worst fractal dimension</th>\n",
              "      <th>label</th>\n",
              "    </tr>\n",
              "  </thead>\n",
              "  <tbody>\n",
              "    <tr>\n",
              "      <th>557</th>\n",
              "      <td>-1.336086</td>\n",
              "      <td>1.999032</td>\n",
              "      <td>-1.347292</td>\n",
              "      <td>-1.090967</td>\n",
              "      <td>-1.076753</td>\n",
              "      <td>-1.035338</td>\n",
              "      <td>-1.114873</td>\n",
              "      <td>-1.261820</td>\n",
              "      <td>-0.254174</td>\n",
              "      <td>-0.312952</td>\n",
              "      <td>0.477599</td>\n",
              "      <td>3.102794</td>\n",
              "      <td>0.372234</td>\n",
              "      <td>-0.247015</td>\n",
              "      <td>1.516402</td>\n",
              "      <td>-0.795763</td>\n",
              "      <td>-1.057501</td>\n",
              "      <td>-1.913447</td>\n",
              "      <td>1.149967</td>\n",
              "      <td>-0.178120</td>\n",
              "      <td>-1.196769</td>\n",
              "      <td>1.394395</td>\n",
              "      <td>-1.214107</td>\n",
              "      <td>-0.966822</td>\n",
              "      <td>-1.098904</td>\n",
              "      <td>-1.162132</td>\n",
              "      <td>-1.305831</td>\n",
              "      <td>-1.745063</td>\n",
              "      <td>-0.688779</td>\n",
              "      <td>-0.789998</td>\n",
              "      <td>1</td>\n",
              "    </tr>\n",
              "    <tr>\n",
              "      <th>94</th>\n",
              "      <td>0.264902</td>\n",
              "      <td>0.125743</td>\n",
              "      <td>0.343154</td>\n",
              "      <td>0.144227</td>\n",
              "      <td>0.536567</td>\n",
              "      <td>0.965749</td>\n",
              "      <td>1.019472</td>\n",
              "      <td>1.011920</td>\n",
              "      <td>0.158383</td>\n",
              "      <td>0.006009</td>\n",
              "      <td>0.258520</td>\n",
              "      <td>-0.458037</td>\n",
              "      <td>0.415796</td>\n",
              "      <td>0.149676</td>\n",
              "      <td>0.736370</td>\n",
              "      <td>0.652335</td>\n",
              "      <td>0.556252</td>\n",
              "      <td>1.089053</td>\n",
              "      <td>-0.673475</td>\n",
              "      <td>-0.103983</td>\n",
              "      <td>0.406050</td>\n",
              "      <td>-0.235671</td>\n",
              "      <td>0.483686</td>\n",
              "      <td>0.253872</td>\n",
              "      <td>0.996451</td>\n",
              "      <td>1.056214</td>\n",
              "      <td>1.190321</td>\n",
              "      <td>1.475363</td>\n",
              "      <td>-0.107996</td>\n",
              "      <td>-0.088988</td>\n",
              "      <td>0</td>\n",
              "    </tr>\n",
              "    <tr>\n",
              "      <th>172</th>\n",
              "      <td>0.378508</td>\n",
              "      <td>-1.721948</td>\n",
              "      <td>0.433773</td>\n",
              "      <td>0.233247</td>\n",
              "      <td>2.087974</td>\n",
              "      <td>0.969539</td>\n",
              "      <td>1.436297</td>\n",
              "      <td>1.567780</td>\n",
              "      <td>0.563638</td>\n",
              "      <td>1.118828</td>\n",
              "      <td>0.056765</td>\n",
              "      <td>-1.013408</td>\n",
              "      <td>-0.030226</td>\n",
              "      <td>0.094672</td>\n",
              "      <td>-0.549349</td>\n",
              "      <td>-0.126765</td>\n",
              "      <td>0.369246</td>\n",
              "      <td>0.227720</td>\n",
              "      <td>-0.317504</td>\n",
              "      <td>0.141124</td>\n",
              "      <td>0.522016</td>\n",
              "      <td>-1.406518</td>\n",
              "      <td>0.528365</td>\n",
              "      <td>0.389232</td>\n",
              "      <td>0.908780</td>\n",
              "      <td>0.661808</td>\n",
              "      <td>1.491126</td>\n",
              "      <td>1.036837</td>\n",
              "      <td>0.509996</td>\n",
              "      <td>0.945071</td>\n",
              "      <td>0</td>\n",
              "    </tr>\n",
              "    <tr>\n",
              "      <th>281</th>\n",
              "      <td>-0.678025</td>\n",
              "      <td>-1.226283</td>\n",
              "      <td>-0.730262</td>\n",
              "      <td>-0.647287</td>\n",
              "      <td>-1.297366</td>\n",
              "      <td>-1.154922</td>\n",
              "      <td>-0.833014</td>\n",
              "      <td>-0.549132</td>\n",
              "      <td>1.056515</td>\n",
              "      <td>-0.236401</td>\n",
              "      <td>0.565664</td>\n",
              "      <td>0.092797</td>\n",
              "      <td>0.421242</td>\n",
              "      <td>-0.055160</td>\n",
              "      <td>0.331020</td>\n",
              "      <td>-0.618034</td>\n",
              "      <td>-0.555503</td>\n",
              "      <td>1.080943</td>\n",
              "      <td>1.049472</td>\n",
              "      <td>-0.677034</td>\n",
              "      <td>-0.612797</td>\n",
              "      <td>-1.207849</td>\n",
              "      <td>-0.672005</td>\n",
              "      <td>-0.609790</td>\n",
              "      <td>-1.261097</td>\n",
              "      <td>-1.076762</td>\n",
              "      <td>-0.982717</td>\n",
              "      <td>-0.482778</td>\n",
              "      <td>0.323951</td>\n",
              "      <td>-0.945716</td>\n",
              "      <td>1</td>\n",
              "    </tr>\n",
              "    <tr>\n",
              "      <th>426</th>\n",
              "      <td>-1.035883</td>\n",
              "      <td>-1.002884</td>\n",
              "      <td>-1.008296</td>\n",
              "      <td>-0.913779</td>\n",
              "      <td>0.128078</td>\n",
              "      <td>-0.057631</td>\n",
              "      <td>-0.319515</td>\n",
              "      <td>-0.689709</td>\n",
              "      <td>0.413949</td>\n",
              "      <td>0.900517</td>\n",
              "      <td>-0.279974</td>\n",
              "      <td>-0.163025</td>\n",
              "      <td>-0.149529</td>\n",
              "      <td>-0.430509</td>\n",
              "      <td>0.107678</td>\n",
              "      <td>0.737287</td>\n",
              "      <td>0.687553</td>\n",
              "      <td>0.136883</td>\n",
              "      <td>0.129276</td>\n",
              "      <td>0.391527</td>\n",
              "      <td>-0.857154</td>\n",
              "      <td>-0.668836</td>\n",
              "      <td>-0.770000</td>\n",
              "      <td>-0.773804</td>\n",
              "      <td>0.014527</td>\n",
              "      <td>0.288394</td>\n",
              "      <td>0.104162</td>\n",
              "      <td>-0.327467</td>\n",
              "      <td>0.192911</td>\n",
              "      <td>0.693484</td>\n",
              "      <td>1</td>\n",
              "    </tr>\n",
              "    <tr>\n",
              "      <th>...</th>\n",
              "      <td>...</td>\n",
              "      <td>...</td>\n",
              "      <td>...</td>\n",
              "      <td>...</td>\n",
              "      <td>...</td>\n",
              "      <td>...</td>\n",
              "      <td>...</td>\n",
              "      <td>...</td>\n",
              "      <td>...</td>\n",
              "      <td>...</td>\n",
              "      <td>...</td>\n",
              "      <td>...</td>\n",
              "      <td>...</td>\n",
              "      <td>...</td>\n",
              "      <td>...</td>\n",
              "      <td>...</td>\n",
              "      <td>...</td>\n",
              "      <td>...</td>\n",
              "      <td>...</td>\n",
              "      <td>...</td>\n",
              "      <td>...</td>\n",
              "      <td>...</td>\n",
              "      <td>...</td>\n",
              "      <td>...</td>\n",
              "      <td>...</td>\n",
              "      <td>...</td>\n",
              "      <td>...</td>\n",
              "      <td>...</td>\n",
              "      <td>...</td>\n",
              "      <td>...</td>\n",
              "      <td>...</td>\n",
              "    </tr>\n",
              "    <tr>\n",
              "      <th>132</th>\n",
              "      <td>0.577318</td>\n",
              "      <td>0.523672</td>\n",
              "      <td>0.586176</td>\n",
              "      <td>0.440582</td>\n",
              "      <td>0.315955</td>\n",
              "      <td>0.455954</td>\n",
              "      <td>0.194611</td>\n",
              "      <td>0.185997</td>\n",
              "      <td>1.271921</td>\n",
              "      <td>-0.551109</td>\n",
              "      <td>0.101159</td>\n",
              "      <td>0.087354</td>\n",
              "      <td>-0.010920</td>\n",
              "      <td>0.073550</td>\n",
              "      <td>-0.721356</td>\n",
              "      <td>-0.332998</td>\n",
              "      <td>-0.321746</td>\n",
              "      <td>-0.416090</td>\n",
              "      <td>-0.628676</td>\n",
              "      <td>-0.537837</td>\n",
              "      <td>0.662832</td>\n",
              "      <td>0.977515</td>\n",
              "      <td>0.668358</td>\n",
              "      <td>0.517559</td>\n",
              "      <td>0.312612</td>\n",
              "      <td>0.325926</td>\n",
              "      <td>0.129588</td>\n",
              "      <td>0.252667</td>\n",
              "      <td>0.937090</td>\n",
              "      <td>-0.429795</td>\n",
              "      <td>0</td>\n",
              "    </tr>\n",
              "    <tr>\n",
              "      <th>138</th>\n",
              "      <td>0.233661</td>\n",
              "      <td>-0.400174</td>\n",
              "      <td>0.201048</td>\n",
              "      <td>0.066014</td>\n",
              "      <td>1.447485</td>\n",
              "      <td>0.495752</td>\n",
              "      <td>0.817337</td>\n",
              "      <td>0.962653</td>\n",
              "      <td>0.530779</td>\n",
              "      <td>-0.090388</td>\n",
              "      <td>3.215185</td>\n",
              "      <td>0.426637</td>\n",
              "      <td>2.748876</td>\n",
              "      <td>1.354490</td>\n",
              "      <td>0.986380</td>\n",
              "      <td>0.520995</td>\n",
              "      <td>1.123237</td>\n",
              "      <td>2.630045</td>\n",
              "      <td>3.770106</td>\n",
              "      <td>-0.343416</td>\n",
              "      <td>0.472316</td>\n",
              "      <td>-0.691634</td>\n",
              "      <td>0.421136</td>\n",
              "      <td>0.159648</td>\n",
              "      <td>0.382749</td>\n",
              "      <td>-0.240875</td>\n",
              "      <td>0.303738</td>\n",
              "      <td>0.793211</td>\n",
              "      <td>0.830317</td>\n",
              "      <td>-0.691358</td>\n",
              "      <td>0</td>\n",
              "    </tr>\n",
              "    <tr>\n",
              "      <th>401</th>\n",
              "      <td>-0.624062</td>\n",
              "      <td>-1.950000</td>\n",
              "      <td>-0.652001</td>\n",
              "      <td>-0.603488</td>\n",
              "      <td>-0.543724</td>\n",
              "      <td>-0.983979</td>\n",
              "      <td>-0.787690</td>\n",
              "      <td>-0.798560</td>\n",
              "      <td>-0.768957</td>\n",
              "      <td>-1.047271</td>\n",
              "      <td>-0.552108</td>\n",
              "      <td>-0.311801</td>\n",
              "      <td>-0.602482</td>\n",
              "      <td>-0.470552</td>\n",
              "      <td>-0.288671</td>\n",
              "      <td>-0.751051</td>\n",
              "      <td>-0.601260</td>\n",
              "      <td>-0.967441</td>\n",
              "      <td>-1.160210</td>\n",
              "      <td>-0.733015</td>\n",
              "      <td>-0.511326</td>\n",
              "      <td>-0.901702</td>\n",
              "      <td>-0.584434</td>\n",
              "      <td>-0.511699</td>\n",
              "      <td>0.220556</td>\n",
              "      <td>-0.615561</td>\n",
              "      <td>-0.579486</td>\n",
              "      <td>-0.698082</td>\n",
              "      <td>-0.713046</td>\n",
              "      <td>-0.627629</td>\n",
              "      <td>1</td>\n",
              "    </tr>\n",
              "    <tr>\n",
              "      <th>421</th>\n",
              "      <td>0.159817</td>\n",
              "      <td>-1.235591</td>\n",
              "      <td>0.257479</td>\n",
              "      <td>0.003444</td>\n",
              "      <td>0.479635</td>\n",
              "      <td>1.502076</td>\n",
              "      <td>0.705598</td>\n",
              "      <td>0.363201</td>\n",
              "      <td>1.001751</td>\n",
              "      <td>1.596561</td>\n",
              "      <td>0.508999</td>\n",
              "      <td>0.533683</td>\n",
              "      <td>0.954885</td>\n",
              "      <td>0.200500</td>\n",
              "      <td>0.978380</td>\n",
              "      <td>1.506886</td>\n",
              "      <td>0.692527</td>\n",
              "      <td>0.649465</td>\n",
              "      <td>0.724982</td>\n",
              "      <td>0.623773</td>\n",
              "      <td>0.039513</td>\n",
              "      <td>-1.194821</td>\n",
              "      <td>0.203699</td>\n",
              "      <td>-0.125485</td>\n",
              "      <td>-0.051226</td>\n",
              "      <td>0.694887</td>\n",
              "      <td>0.238492</td>\n",
              "      <td>-0.057956</td>\n",
              "      <td>-0.119321</td>\n",
              "      <td>0.450762</td>\n",
              "      <td>1</td>\n",
              "    </tr>\n",
              "    <tr>\n",
              "      <th>390</th>\n",
              "      <td>-1.098366</td>\n",
              "      <td>-1.645155</td>\n",
              "      <td>-1.079967</td>\n",
              "      <td>-0.947908</td>\n",
              "      <td>0.256176</td>\n",
              "      <td>-0.548095</td>\n",
              "      <td>-0.873441</td>\n",
              "      <td>-0.754194</td>\n",
              "      <td>-0.042419</td>\n",
              "      <td>0.410026</td>\n",
              "      <td>-0.772631</td>\n",
              "      <td>-1.214074</td>\n",
              "      <td>-0.751486</td>\n",
              "      <td>-0.626104</td>\n",
              "      <td>-0.453011</td>\n",
              "      <td>-0.661069</td>\n",
              "      <td>-0.775799</td>\n",
              "      <td>-0.789497</td>\n",
              "      <td>-0.140729</td>\n",
              "      <td>-0.538594</td>\n",
              "      <td>-1.012466</td>\n",
              "      <td>-1.632871</td>\n",
              "      <td>-1.013648</td>\n",
              "      <td>-0.854492</td>\n",
              "      <td>0.084665</td>\n",
              "      <td>-0.567850</td>\n",
              "      <td>-0.892524</td>\n",
              "      <td>-0.725490</td>\n",
              "      <td>0.058635</td>\n",
              "      <td>-0.372717</td>\n",
              "      <td>1</td>\n",
              "    </tr>\n",
              "  </tbody>\n",
              "</table>\n",
              "<p>569 rows × 31 columns</p>\n",
              "</div>"
            ],
            "text/plain": [
              "     mean radius  mean texture  ...  worst fractal dimension  label\n",
              "557    -1.336086      1.999032  ...                -0.789998      1\n",
              "94      0.264902      0.125743  ...                -0.088988      0\n",
              "172     0.378508     -1.721948  ...                 0.945071      0\n",
              "281    -0.678025     -1.226283  ...                -0.945716      1\n",
              "426    -1.035883     -1.002884  ...                 0.693484      1\n",
              "..           ...           ...  ...                      ...    ...\n",
              "132     0.577318      0.523672  ...                -0.429795      0\n",
              "138     0.233661     -0.400174  ...                -0.691358      0\n",
              "401    -0.624062     -1.950000  ...                -0.627629      1\n",
              "421     0.159817     -1.235591  ...                 0.450762      1\n",
              "390    -1.098366     -1.645155  ...                -0.372717      1\n",
              "\n",
              "[569 rows x 31 columns]"
            ]
          },
          "metadata": {},
          "execution_count": 19
        }
      ]
    },
    {
      "cell_type": "code",
      "metadata": {
        "id": "Ws_57eGlS2Wb"
      },
      "source": [
        "#500 Training\n",
        "X_train = feature[:500]\n",
        "y_train = label[:500]\n",
        "\n",
        "#35 Validation\n",
        "X_val = feature[500:535]\n",
        "y_val = label[500:535]\n",
        "\n",
        "#34 Testing\n",
        "X_test = feature[535:]\n",
        "y_test = label[535:]"
      ],
      "execution_count": 21,
      "outputs": []
    },
    {
      "cell_type": "code",
      "metadata": {
        "id": "35uz4vLLS_IA"
      },
      "source": [
        "model = Sequential()\n",
        "\n",
        "model.add(Dense(32, activation = 'relu', input_dim = 30))\n",
        "model.add(Dense(64, activation = 'relu'))\n",
        "model.add(Dense(128, activation = 'relu'))\n",
        "model.add(Dense(64, activation = 'relu'))\n",
        "model.add(Dense(32, activation = 'relu'))\n",
        "model.add(Dense(1, activation = 'sigmoid'))\n",
        "\n",
        "model.compile( loss = 'binary_crossentropy' , optimizer = 'adam' , metrics = ['accuracy'])"
      ],
      "execution_count": 22,
      "outputs": []
    },
    {
      "cell_type": "code",
      "metadata": {
        "colab": {
          "base_uri": "https://localhost:8080/"
        },
        "id": "Js-XFoQJTIzX",
        "outputId": "5cbd484e-35b0-4449-f28b-52384286be47"
      },
      "source": [
        "model.fit( X_train , y_train, epochs = 10, batch_size = 5, validation_data = (X_val, y_val))"
      ],
      "execution_count": 23,
      "outputs": [
        {
          "output_type": "stream",
          "name": "stdout",
          "text": [
            "Epoch 1/10\n",
            "100/100 [==============================] - 1s 4ms/step - loss: 0.2323 - accuracy: 0.9200 - val_loss: 0.0302 - val_accuracy: 1.0000\n",
            "Epoch 2/10\n",
            "100/100 [==============================] - 0s 2ms/step - loss: 0.0864 - accuracy: 0.9720 - val_loss: 0.0217 - val_accuracy: 1.0000\n",
            "Epoch 3/10\n",
            "100/100 [==============================] - 0s 2ms/step - loss: 0.0625 - accuracy: 0.9800 - val_loss: 0.0241 - val_accuracy: 1.0000\n",
            "Epoch 4/10\n",
            "100/100 [==============================] - 0s 2ms/step - loss: 0.0506 - accuracy: 0.9800 - val_loss: 0.0202 - val_accuracy: 1.0000\n",
            "Epoch 5/10\n",
            "100/100 [==============================] - 0s 2ms/step - loss: 0.0405 - accuracy: 0.9880 - val_loss: 0.0432 - val_accuracy: 0.9714\n",
            "Epoch 6/10\n",
            "100/100 [==============================] - 0s 2ms/step - loss: 0.0328 - accuracy: 0.9920 - val_loss: 0.0261 - val_accuracy: 0.9714\n",
            "Epoch 7/10\n",
            "100/100 [==============================] - 0s 2ms/step - loss: 0.0215 - accuracy: 0.9940 - val_loss: 0.0305 - val_accuracy: 0.9714\n",
            "Epoch 8/10\n",
            "100/100 [==============================] - 0s 2ms/step - loss: 0.0272 - accuracy: 0.9900 - val_loss: 0.0567 - val_accuracy: 0.9714\n",
            "Epoch 9/10\n",
            "100/100 [==============================] - 0s 2ms/step - loss: 0.0223 - accuracy: 0.9920 - val_loss: 0.0430 - val_accuracy: 0.9714\n",
            "Epoch 10/10\n",
            "100/100 [==============================] - 0s 2ms/step - loss: 0.0074 - accuracy: 0.9980 - val_loss: 0.0469 - val_accuracy: 0.9714\n"
          ]
        },
        {
          "output_type": "execute_result",
          "data": {
            "text/plain": [
              "<keras.callbacks.History at 0x7faacc1f8990>"
            ]
          },
          "metadata": {},
          "execution_count": 23
        }
      ]
    },
    {
      "cell_type": "code",
      "metadata": {
        "colab": {
          "base_uri": "https://localhost:8080/"
        },
        "id": "v7l_F1lETP-I",
        "outputId": "3d42f28e-ad75-4e49-a08c-577d42365631"
      },
      "source": [
        "model.evaluate(X_test , y_test)"
      ],
      "execution_count": 24,
      "outputs": [
        {
          "output_type": "stream",
          "name": "stdout",
          "text": [
            "2/2 [==============================] - 0s 7ms/step - loss: 2.8520e-04 - accuracy: 1.0000\n"
          ]
        },
        {
          "output_type": "execute_result",
          "data": {
            "text/plain": [
              "[0.0002851961471606046, 1.0]"
            ]
          },
          "metadata": {},
          "execution_count": 24
        }
      ]
    },
    {
      "cell_type": "code",
      "metadata": {
        "colab": {
          "base_uri": "https://localhost:8080/"
        },
        "id": "zt7Dkn6ETWQ1",
        "outputId": "6281daf7-3678-49a9-cece-1f30f28e609d"
      },
      "source": [
        "model.evaluate(X_val , y_val)"
      ],
      "execution_count": 25,
      "outputs": [
        {
          "output_type": "stream",
          "name": "stdout",
          "text": [
            "2/2 [==============================] - 0s 9ms/step - loss: 0.0469 - accuracy: 0.9714\n"
          ]
        },
        {
          "output_type": "execute_result",
          "data": {
            "text/plain": [
              "[0.0469086579978466, 0.9714285731315613]"
            ]
          },
          "metadata": {},
          "execution_count": 25
        }
      ]
    },
    {
      "cell_type": "code",
      "metadata": {
        "colab": {
          "base_uri": "https://localhost:8080/"
        },
        "id": "1cnoEDVhTeNB",
        "outputId": "6e16bc76-12b8-45e7-cec6-781b051785e3"
      },
      "source": [
        "for i in range(30):\n",
        "  sample = X_test[i]\n",
        "  sample = np.reshape(sample, (1,30))\n",
        "\n",
        "  if (model.predict(sample)[0][0] > 0.5):\n",
        "    print(\"Predicted -Benign\")\n",
        "  else:\n",
        "    print(\"Predicted -Melignant\")\n",
        "\n",
        "  if (y_test[i] == 1):\n",
        "    print(\"Actual *Benign\")\n",
        "  else:\n",
        "    print(\"Actual *Melignant\")\n",
        "  print(\"-----------\")"
      ],
      "execution_count": 28,
      "outputs": [
        {
          "output_type": "stream",
          "name": "stdout",
          "text": [
            "Predicted -Benign\n",
            "Actual *Benign\n",
            "-----------\n",
            "Predicted -Melignant\n",
            "Actual *Melignant\n",
            "-----------\n",
            "Predicted -Melignant\n",
            "Actual *Melignant\n",
            "-----------\n",
            "Predicted -Benign\n",
            "Actual *Benign\n",
            "-----------\n",
            "Predicted -Benign\n",
            "Actual *Benign\n",
            "-----------\n",
            "Predicted -Benign\n",
            "Actual *Benign\n",
            "-----------\n",
            "Predicted -Benign\n",
            "Actual *Benign\n",
            "-----------\n",
            "Predicted -Benign\n",
            "Actual *Benign\n",
            "-----------\n",
            "Predicted -Benign\n",
            "Actual *Benign\n",
            "-----------\n",
            "Predicted -Melignant\n",
            "Actual *Melignant\n",
            "-----------\n",
            "Predicted -Benign\n",
            "Actual *Benign\n",
            "-----------\n",
            "Predicted -Benign\n",
            "Actual *Benign\n",
            "-----------\n",
            "Predicted -Benign\n",
            "Actual *Benign\n",
            "-----------\n",
            "Predicted -Benign\n",
            "Actual *Benign\n",
            "-----------\n",
            "Predicted -Benign\n",
            "Actual *Benign\n",
            "-----------\n",
            "Predicted -Benign\n",
            "Actual *Benign\n",
            "-----------\n",
            "Predicted -Benign\n",
            "Actual *Benign\n",
            "-----------\n",
            "Predicted -Benign\n",
            "Actual *Benign\n",
            "-----------\n",
            "Predicted -Melignant\n",
            "Actual *Melignant\n",
            "-----------\n",
            "Predicted -Melignant\n",
            "Actual *Melignant\n",
            "-----------\n",
            "Predicted -Melignant\n",
            "Actual *Melignant\n",
            "-----------\n",
            "Predicted -Melignant\n",
            "Actual *Melignant\n",
            "-----------\n",
            "Predicted -Benign\n",
            "Actual *Benign\n",
            "-----------\n",
            "Predicted -Benign\n",
            "Actual *Benign\n",
            "-----------\n",
            "Predicted -Melignant\n",
            "Actual *Melignant\n",
            "-----------\n",
            "Predicted -Benign\n",
            "Actual *Benign\n",
            "-----------\n",
            "Predicted -Melignant\n",
            "Actual *Melignant\n",
            "-----------\n",
            "Predicted -Benign\n",
            "Actual *Benign\n",
            "-----------\n",
            "Predicted -Melignant\n",
            "Actual *Melignant\n",
            "-----------\n",
            "Predicted -Melignant\n",
            "Actual *Melignant\n",
            "-----------\n"
          ]
        }
      ]
    }
  ]
}